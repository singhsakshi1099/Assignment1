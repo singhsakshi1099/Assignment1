{
  "nbformat": 4,
  "nbformat_minor": 0,
  "metadata": {
    "colab": {
      "provenance": []
    },
    "kernelspec": {
      "name": "python3",
      "display_name": "Python 3"
    },
    "language_info": {
      "name": "python"
    }
  },
  "cells": [
    {
      "cell_type": "code",
      "execution_count": 1,
      "metadata": {
        "id": "50lrnGgBzcn1"
      },
      "outputs": [],
      "source": [
        "def twoSum(nums, target):\n",
        "    hashmap = {}\n",
        "    for i in range(len(nums)):\n",
        "        complement = target - nums[i]\n",
        "        if complement in hashmap:\n",
        "            return [hashmap[complement], i]\n",
        "        hashmap[nums[i]] = i\n",
        "    return []"
      ]
    },
    {
      "cell_type": "code",
      "source": [
        "nums = [2,7,11,15]\n",
        "target = 9\n",
        "twoSum(nums,target)"
      ],
      "metadata": {
        "colab": {
          "base_uri": "https://localhost:8080/"
        },
        "id": "I7QmXKM60GlO",
        "outputId": "b2eb260d-2ff6-4785-d1b0-9f266f668d07"
      },
      "execution_count": 2,
      "outputs": [
        {
          "output_type": "execute_result",
          "data": {
            "text/plain": [
              "[0, 1]"
            ]
          },
          "metadata": {},
          "execution_count": 2
        }
      ]
    },
    {
      "cell_type": "code",
      "source": [
        "def removeElement(nums, val):\n",
        "    i = 0  # Pointer for iteration\n",
        "    k = 0  # Pointer for placing non-val elements\n",
        "    \n",
        "    while i < len(nums):\n",
        "        if nums[i] == val:\n",
        "            i += 1\n",
        "        else:\n",
        "            nums[k] = nums[i]\n",
        "            i += 1\n",
        "            k += 1\n",
        "\n",
        "    return k\n",
        "\n",
        "# Example usage:\n",
        "nums = [3, 2, 2, 3]\n",
        "val = 3\n",
        "result = removeElement(nums, val)\n",
        "print(result)  # Output: 2\n",
        "print(nums[:result])  # Output: [2, 2]\n"
      ],
      "metadata": {
        "colab": {
          "base_uri": "https://localhost:8080/"
        },
        "id": "fVEQYZWK0bnC",
        "outputId": "1a3b3823-949a-468c-8371-54a39c1b662b"
      },
      "execution_count": 3,
      "outputs": [
        {
          "output_type": "stream",
          "name": "stdout",
          "text": [
            "2\n",
            "[2, 2]\n"
          ]
        }
      ]
    },
    {
      "cell_type": "code",
      "source": [
        "def searchInsert(nums, target):\n",
        "    left = 0\n",
        "    right = len(nums) - 1\n",
        "    \n",
        "    while left <= right:\n",
        "        mid = left + (right - left) // 2\n",
        "        \n",
        "        if nums[mid] == target:\n",
        "            return mid\n",
        "        elif nums[mid] < target:\n",
        "            left = mid + 1\n",
        "        else:\n",
        "            right = mid - 1\n",
        "    \n",
        "    return left\n",
        "\n",
        "# Example usage:\n",
        "nums = [1, 3, 5, 6]\n",
        "target = 5\n",
        "result = searchInsert(nums, target)\n",
        "print(result)  # Output: 2\n"
      ],
      "metadata": {
        "colab": {
          "base_uri": "https://localhost:8080/"
        },
        "id": "hjBP0Wkp02-x",
        "outputId": "a9c04e39-b8b6-42a1-8108-17e2de310f5d"
      },
      "execution_count": 4,
      "outputs": [
        {
          "output_type": "stream",
          "name": "stdout",
          "text": [
            "2\n"
          ]
        }
      ]
    },
    {
      "cell_type": "code",
      "source": [
        "def plusOne(digits):\n",
        "    carry = 1\n",
        "    for i in range(len(digits) - 1, -1, -1):\n",
        "        digits[i] += carry\n",
        "        if digits[i] == 10:\n",
        "            digits[i] = 0\n",
        "        else:\n",
        "            carry = 0\n",
        "            break\n",
        "    \n",
        "    if carry == 1:\n",
        "        digits.insert(0, 1)\n",
        "    \n",
        "    return digits\n",
        "\n",
        "# Example usage:\n",
        "digits = [1, 2, 3]\n",
        "result = plusOne(digits)\n",
        "print(result)  # Output: [1, 2, 4]\n"
      ],
      "metadata": {
        "colab": {
          "base_uri": "https://localhost:8080/"
        },
        "id": "xzSRBqnp1OQ_",
        "outputId": "dfc288b7-69be-4ed4-c819-dfc7085f1bd8"
      },
      "execution_count": 5,
      "outputs": [
        {
          "output_type": "stream",
          "name": "stdout",
          "text": [
            "[1, 2, 4]\n"
          ]
        }
      ]
    },
    {
      "cell_type": "code",
      "source": [
        "def merge(nums1, m, nums2, n):\n",
        "    p1 = m - 1\n",
        "    p2 = n - 1\n",
        "    p = m + n - 1\n",
        "    \n",
        "    while p1 >= 0 and p2 >= 0:\n",
        "        if nums1[p1] >= nums2[p2]:\n",
        "            nums1[p] = nums1[p1]\n",
        "            p1 -= 1\n",
        "        else:\n",
        "            nums1[p] = nums2[p2]\n",
        "            p2 -= 1\n",
        "        p -= 1\n",
        "    \n",
        "    while p2 >= 0:\n",
        "        nums1[p] = nums2[p2]\n",
        "        p2 -= 1\n",
        "        p -= 1\n",
        "\n",
        "\n",
        "\n",
        "nums1 = [1, 2, 3, 0, 0, 0]  # Example input\n",
        "m = 3\n",
        "nums2 = [2, 5, 6]  # Example input\n",
        "n = 3\n",
        "\n",
        "merge(nums1, m, nums2, n)\n",
        "print(nums1)  # Output: [1, 2, 2, 3, 5, 6]\n"
      ],
      "metadata": {
        "colab": {
          "base_uri": "https://localhost:8080/"
        },
        "id": "t66axM-51cu5",
        "outputId": "84ee3f20-d197-45b5-c356-bbd0875ca9ea"
      },
      "execution_count": 6,
      "outputs": [
        {
          "output_type": "stream",
          "name": "stdout",
          "text": [
            "[1, 2, 2, 3, 5, 6]\n"
          ]
        }
      ]
    },
    {
      "cell_type": "code",
      "source": [
        "def containsDuplicate(nums):\n",
        "    seen = set()\n",
        "    for num in nums:\n",
        "        if num in seen:\n",
        "            return True\n",
        "        seen.add(num)\n",
        "    return False\n",
        "\n",
        "\n",
        "nums = [1, 2, 3, 1]  # Example input\n",
        "print(containsDuplicate(nums))  # Output: True\n",
        "\n",
        "nums = [1, 2, 3, 4]  # Example input\n",
        "print(containsDuplicate(nums))  # Output: False\n"
      ],
      "metadata": {
        "colab": {
          "base_uri": "https://localhost:8080/"
        },
        "id": "myUagBb-17If",
        "outputId": "b0198990-ecde-42ae-9361-52c4f04474b0"
      },
      "execution_count": 7,
      "outputs": [
        {
          "output_type": "stream",
          "name": "stdout",
          "text": [
            "True\n",
            "False\n"
          ]
        }
      ]
    },
    {
      "cell_type": "code",
      "source": [
        "def moveZeroes(nums):\n",
        "    left = right = 0\n",
        "\n",
        "    while right < len(nums):\n",
        "        if nums[right] != 0:\n",
        "            nums[left], nums[right] = nums[right], nums[left]\n",
        "            left += 1\n",
        "        right += 1\n",
        "\n",
        "nums = [0,1,0,3,12]\n",
        "moveZeroes(nums)\n",
        "nums"
      ],
      "metadata": {
        "colab": {
          "base_uri": "https://localhost:8080/"
        },
        "id": "MRYkOYOG2GJ_",
        "outputId": "51475562-d809-496a-a7a0-7a84ec3cf5f7"
      },
      "execution_count": 9,
      "outputs": [
        {
          "output_type": "execute_result",
          "data": {
            "text/plain": [
              "[1, 3, 12, 0, 0]"
            ]
          },
          "metadata": {},
          "execution_count": 9
        }
      ]
    },
    {
      "cell_type": "code",
      "source": [
        "def find_error_nums(nums):\n",
        "    i = 0\n",
        "    while i < len(nums):\n",
        "        if nums[i] != nums[nums[i] - 1]:\n",
        "            nums[nums[i] - 1], nums[i] = nums[i], nums[nums[i] - 1]\n",
        "        else:\n",
        "            i += 1\n",
        "\n",
        "    for i in range(len(nums)):\n",
        "        if nums[i] != i + 1:\n",
        "            return [nums[i], i + 1]\n",
        "\n",
        "    return []\n",
        "\n",
        "\n",
        "numsn = [1,2,2,4]\n",
        "find_error_nums(numsn)\n",
        "numsn"
      ],
      "metadata": {
        "colab": {
          "base_uri": "https://localhost:8080/"
        },
        "id": "oJ921JGt2pQ7",
        "outputId": "06d47758-70d0-4c4a-c259-a31bcfc7b31d"
      },
      "execution_count": 12,
      "outputs": [
        {
          "output_type": "execute_result",
          "data": {
            "text/plain": [
              "[1, 2, 2, 4]"
            ]
          },
          "metadata": {},
          "execution_count": 12
        }
      ]
    },
    {
      "cell_type": "code",
      "source": [],
      "metadata": {
        "id": "eon5ZR_K3K4r"
      },
      "execution_count": null,
      "outputs": []
    }
  ]
}